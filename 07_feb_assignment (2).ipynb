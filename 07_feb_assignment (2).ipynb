{
 "cells": [
  {
   "cell_type": "markdown",
   "id": "6e1ba1e7-0fa8-4684-bb30-daae7b62cbfc",
   "metadata": {},
   "source": [
    "## Q1. You are writing code for a company. The requirement of the company is that you create a python function that will check whether the password entered by the user is correct or not. The function should take the password as input and return the string “Valid Password” if the entered password follows the below-given password guidelines else it should return “Invalid Password”.\n",
    "## Note: \n",
    "## 1. The Password should contain at least two uppercase letters and at least two lowercase letters.\n",
    "## 2. The Password should contain at least a number and three special characters.\n",
    "## 3. The length of the password should be 10 characters long."
   ]
  },
  {
   "cell_type": "code",
   "execution_count": 6,
   "id": "fdae51a2-b38e-43aa-9cff-dd51157b8de4",
   "metadata": {},
   "outputs": [],
   "source": [
    "def password():\n",
    "    a = input(\"Enter Password : \")\n",
    "    u,l,n,s = 0,0,0,0\n",
    "    for i in a:\n",
    "        if i.isupper():\n",
    "            u += 1\n",
    "        elif i.islower():\n",
    "            l += 1\n",
    "        elif i.isdigit():\n",
    "            n += 1\n",
    "        elif (i == \"!\" or i == \"@\" or i == \"#\" or i == \"$\" or i == \"&\" or i == \"_\"):\n",
    "            s += 1\n",
    "    if u>=2 and l>=2 and n>=1 and s>=3 and (u+l+n+s)==10:\n",
    "        print(\"valid password\")\n",
    "    else  : \n",
    "        print(\"invalid password\")\n",
    "        \n",
    "        "
   ]
  },
  {
   "cell_type": "code",
   "execution_count": 7,
   "id": "1d357237-64fb-4d0b-a082-e015333e365b",
   "metadata": {},
   "outputs": [
    {
     "name": "stdin",
     "output_type": "stream",
     "text": [
      "Enter Password :  VInay@12#$\n"
     ]
    },
    {
     "name": "stdout",
     "output_type": "stream",
     "text": [
      "valid password\n"
     ]
    }
   ],
   "source": [
    "password()\n"
   ]
  },
  {
   "cell_type": "markdown",
   "id": "08afda0c-7cfb-46c0-af16-2c5b5ae1561a",
   "metadata": {},
   "source": [
    "## Q2. Solve the below-given questions using at least one of the following:\n",
    "## 1. Lambda function\n",
    "## 2. Filter function\n",
    "## 3. map function\n",
    "## 4. List Comprehension\n"
   ]
  },
  {
   "cell_type": "markdown",
   "id": "aed6ff71-42dd-4699-bffc-5e705a34cded",
   "metadata": {},
   "source": [
    "## A. Check if the string starts with a particular letter"
   ]
  },
  {
   "cell_type": "code",
   "execution_count": 20,
   "id": "ec6e1e92-ba78-4a23-97e9-1ebf097d9a82",
   "metadata": {},
   "outputs": [],
   "source": [
    "a = lambda x : True if x[0]==\"a\" else False"
   ]
  },
  {
   "cell_type": "code",
   "execution_count": 21,
   "id": "7ae4e7f8-3a62-459e-a169-858ae7175790",
   "metadata": {},
   "outputs": [
    {
     "data": {
      "text/plain": [
       "False"
      ]
     },
     "execution_count": 21,
     "metadata": {},
     "output_type": "execute_result"
    }
   ],
   "source": [
    "a(\"fruits\")"
   ]
  },
  {
   "cell_type": "code",
   "execution_count": 22,
   "id": "441733f5-d51a-430f-acff-707a67e6a524",
   "metadata": {},
   "outputs": [
    {
     "data": {
      "text/plain": [
       "True"
      ]
     },
     "execution_count": 22,
     "metadata": {},
     "output_type": "execute_result"
    }
   ],
   "source": [
    "a(\"apple\")"
   ]
  },
  {
   "cell_type": "markdown",
   "id": "aea18a68-96ff-491c-b71d-27ef3d162160",
   "metadata": {},
   "source": [
    "## B. Check if the string is numeric"
   ]
  },
  {
   "cell_type": "code",
   "execution_count": 41,
   "id": "a90d2a5d-441c-4cb8-b4b2-d5b37068da95",
   "metadata": {},
   "outputs": [],
   "source": [
    "p = lambda x : True if x.isdigit() else False"
   ]
  },
  {
   "cell_type": "code",
   "execution_count": 42,
   "id": "c85e84fa-9ccd-4ded-b43f-3bc4c4fe5643",
   "metadata": {},
   "outputs": [
    {
     "data": {
      "text/plain": [
       "False"
      ]
     },
     "execution_count": 42,
     "metadata": {},
     "output_type": "execute_result"
    }
   ],
   "source": [
    "p(\"123mn\")"
   ]
  },
  {
   "cell_type": "markdown",
   "id": "1a825a0a-d2d1-4bbc-b10b-f255ccb9d273",
   "metadata": {},
   "source": [
    "## C. Sort a list of tuples having fruit names and their quantity. [(\"mango\",99),(\"orange\",80), (\"grapes\", 1000)]"
   ]
  },
  {
   "cell_type": "code",
   "execution_count": 34,
   "id": "a5528976-767b-4f91-b44d-e6c670611c3a",
   "metadata": {},
   "outputs": [],
   "source": [
    "m = [(\"mango\",99),(\"orange\",80), (\"grapes\", 1000)]"
   ]
  },
  {
   "cell_type": "code",
   "execution_count": 36,
   "id": "6e79981a-9c6e-4bfb-800c-11da3524b641",
   "metadata": {},
   "outputs": [
    {
     "name": "stdout",
     "output_type": "stream",
     "text": [
      "[('orange', 80), ('mango', 99), ('grapes', 1000)]\n"
     ]
    }
   ],
   "source": [
    "m.sort(key = lambda x : x[1])\n",
    "print(m)"
   ]
  },
  {
   "cell_type": "markdown",
   "id": "228d53f0-b4b7-40f1-ba4c-3c43fa341e08",
   "metadata": {},
   "source": [
    "## D. Find the squares of numbers from 1 to 10"
   ]
  },
  {
   "cell_type": "code",
   "execution_count": 24,
   "id": "05962a1f-9164-407f-addc-fc0c6684a121",
   "metadata": {},
   "outputs": [
    {
     "data": {
      "text/plain": [
       "[1, 4, 9, 16, 25, 36, 49, 64, 81, 100]"
      ]
     },
     "execution_count": 24,
     "metadata": {},
     "output_type": "execute_result"
    }
   ],
   "source": [
    "l1 = [1, 2, 3, 4, 5, 6, 7, 8, 9, 10]\n",
    "list(map(lambda x : x**2 , l1))\n"
   ]
  },
  {
   "cell_type": "markdown",
   "id": "3200325e-826a-4788-b3af-3fc266ed3c87",
   "metadata": {},
   "source": [
    "## E. Find the cube root of numbers from 1 to 10"
   ]
  },
  {
   "cell_type": "code",
   "execution_count": 25,
   "id": "3d585d8e-fc35-461b-a2c1-335afa9bb56b",
   "metadata": {},
   "outputs": [
    {
     "data": {
      "text/plain": [
       "[1.0,\n",
       " 1.2599210498948732,\n",
       " 1.4422495703074083,\n",
       " 1.5874010519681994,\n",
       " 1.7099759466766968,\n",
       " 1.8171205928321397,\n",
       " 1.912931182772389,\n",
       " 2.0,\n",
       " 2.080083823051904,\n",
       " 2.154434690031884]"
      ]
     },
     "execution_count": 25,
     "metadata": {},
     "output_type": "execute_result"
    }
   ],
   "source": [
    "l1 = [1, 2, 3, 4, 5, 6, 7, 8, 9, 10]\n",
    "list(map(lambda x : x**(1/3) , l1))"
   ]
  },
  {
   "cell_type": "markdown",
   "id": "74027b6e-250f-480c-8f3c-222d1ef2b9be",
   "metadata": {},
   "source": [
    "## F. Check if a given number is even"
   ]
  },
  {
   "cell_type": "code",
   "execution_count": 29,
   "id": "63ca6a0a-4a6d-4175-adf0-f6fb16c5a361",
   "metadata": {},
   "outputs": [],
   "source": [
    "l = lambda x : True if x%2==0 else False"
   ]
  },
  {
   "cell_type": "code",
   "execution_count": 30,
   "id": "3443cc5a-caef-4823-952e-ce5c4ea8b75b",
   "metadata": {},
   "outputs": [
    {
     "data": {
      "text/plain": [
       "True"
      ]
     },
     "execution_count": 30,
     "metadata": {},
     "output_type": "execute_result"
    }
   ],
   "source": [
    "l(2)"
   ]
  },
  {
   "cell_type": "code",
   "execution_count": 31,
   "id": "2632f5bc-8d2b-474f-9e89-5ab86faad48d",
   "metadata": {},
   "outputs": [
    {
     "data": {
      "text/plain": [
       "False"
      ]
     },
     "execution_count": 31,
     "metadata": {},
     "output_type": "execute_result"
    }
   ],
   "source": [
    "l(3)"
   ]
  },
  {
   "cell_type": "markdown",
   "id": "e1571086-f503-4033-b27a-6dc8a7e7d6a0",
   "metadata": {},
   "source": [
    "## G. Filter odd numbers from the given list.\n",
    "## [1,2,3,4,5,6,7,8,9,10]"
   ]
  },
  {
   "cell_type": "code",
   "execution_count": 32,
   "id": "be1fa4fc-a743-4cdb-bf5f-0e3d349de370",
   "metadata": {},
   "outputs": [
    {
     "data": {
      "text/plain": [
       "[1, 2, 3, 4, 5, 6, 7, 8, 9, 10]"
      ]
     },
     "execution_count": 32,
     "metadata": {},
     "output_type": "execute_result"
    }
   ],
   "source": [
    "l1"
   ]
  },
  {
   "cell_type": "code",
   "execution_count": 33,
   "id": "2012b3fd-ce3d-471e-99c0-7f02722eef06",
   "metadata": {},
   "outputs": [
    {
     "data": {
      "text/plain": [
       "[1, 3, 5, 7, 9]"
      ]
     },
     "execution_count": 33,
     "metadata": {},
     "output_type": "execute_result"
    }
   ],
   "source": [
    "list(filter (lambda x : x%2!=0  , l1))"
   ]
  },
  {
   "cell_type": "markdown",
   "id": "bdbb55f9-d9b7-4b20-a3a1-fa2d17364e77",
   "metadata": {},
   "source": [
    "## H. Sort a list of integers into positive and negative integers lists.\n",
    "## [1,2,3,4,5,6,-1,-2,-3,-4,-5,0]"
   ]
  },
  {
   "cell_type": "code",
   "execution_count": 37,
   "id": "ecdeb2dc-9819-40c4-aed4-36800e66cb3e",
   "metadata": {},
   "outputs": [],
   "source": [
    "l5 = [1,2,3,4,5,6,-1,-2,-3,-4,-5,0]"
   ]
  },
  {
   "cell_type": "code",
   "execution_count": 38,
   "id": "6c9efbee-7df1-4250-b368-711b4dceda7d",
   "metadata": {},
   "outputs": [
    {
     "data": {
      "text/plain": [
       "[1, 2, 3, 4, 5, 6]"
      ]
     },
     "execution_count": 38,
     "metadata": {},
     "output_type": "execute_result"
    }
   ],
   "source": [
    "list (filter (lambda x : x > 0,l5))"
   ]
  },
  {
   "cell_type": "code",
   "execution_count": 39,
   "id": "0768acaf-0579-4a17-a890-0e1eaece739d",
   "metadata": {},
   "outputs": [
    {
     "data": {
      "text/plain": [
       "[-1, -2, -3, -4, -5]"
      ]
     },
     "execution_count": 39,
     "metadata": {},
     "output_type": "execute_result"
    }
   ],
   "source": [
    "list (filter (lambda x : x < 0,l5))"
   ]
  },
  {
   "cell_type": "code",
   "execution_count": null,
   "id": "394b5477-71f9-45db-b90d-3b5f53df9b0d",
   "metadata": {},
   "outputs": [],
   "source": []
  }
 ],
 "metadata": {
  "kernelspec": {
   "display_name": "Python 3 (ipykernel)",
   "language": "python",
   "name": "python3"
  },
  "language_info": {
   "codemirror_mode": {
    "name": "ipython",
    "version": 3
   },
   "file_extension": ".py",
   "mimetype": "text/x-python",
   "name": "python",
   "nbconvert_exporter": "python",
   "pygments_lexer": "ipython3",
   "version": "3.10.8"
  }
 },
 "nbformat": 4,
 "nbformat_minor": 5
}
